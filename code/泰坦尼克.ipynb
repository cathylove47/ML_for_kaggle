{
 "cells": [
  {
   "cell_type": "markdown",
   "source": [
    "# 导入数据"
   ],
   "metadata": {
    "collapsed": false
   },
   "id": "10f50f27261cce33"
  },
  {
   "cell_type": "code",
   "execution_count": null,
   "outputs": [],
   "source": [
    "\"\"\"author Binny\"\"\"\n",
    "# 忽略警告提示\n",
    "import warnings\n",
    "warnings.filterwarnings('ignore')\n",
    "import sys\n",
    "# 导入处理数据包\n",
    "import pandas as pd\n",
    "import numpy as np\n",
    "\n",
    "train_data = pd.read_csv(r'D:\\pythonProject1\\ML_for_kaggle\\data\\titanic\\train.csv')\n",
    "test_data = pd.read_csv(r'D:\\pythonProject1\\ML_for_kaggle\\data\\titanic\\test.csv')\n",
    "full = train_data.append(test_data, ignore_index=True)\n",
    "print('训练集大小：', train_data.shape, '测试集大小：', test_data.shape)\n",
    "print('合并后的数据集大小：', full.shape)\n",
    "print('合并后的数据集前5行：\\n', full.head())"
   ],
   "metadata": {
    "collapsed": false
   },
   "id": "27458e6dfead90e2"
  },
  {
   "cell_type": "code",
   "execution_count": null,
   "outputs": [],
   "source": [
    "'''\n",
    "describe只能查看数据类型的描述统计信息，对于其他类型的数据不显示，比如字符串类型姓名（name），客舱号（Cabin）\n",
    "这很好理解，因为描述统计指标是计算数值，所以需要该列的数据类型是数据。\n",
    "Pandas Series.mean()函数返回给定Series对象中基础数据的平均值。\n",
    "'''\n",
    "# 获取数据类型列的描述统计信息\n",
    "full.describe()"
   ],
   "metadata": {
    "collapsed": false
   },
   "id": "9676c23023fd8622"
  },
  {
   "cell_type": "code",
   "execution_count": null,
   "outputs": [],
   "source": [
    "full.info()"
   ],
   "metadata": {
    "collapsed": false
   },
   "id": "a79ffc632706d388"
  },
  {
   "cell_type": "markdown",
   "source": [
    "我们发现数据一共有1309行,其中Survided只有891行,说明有418行数据没有标签,也就是我们要预测的数据\n",
    "Age(年龄)有1046行数据,说明有1309-1046=263行数据没有年龄,也就是说有263个乘客的年龄没有记录\n",
    "Fare(船票价格)有1308行数据,只有一个乘客没有记录\n",
    "Embarked(登船港口)有1307行数据,有两个乘客没有登船港口记录\n",
    "Cabin(客舱号)只有295行数据,有1007个乘客没有客舱号记录\n"
   ],
   "metadata": {
    "collapsed": false
   },
   "id": "6035373ce77dacbc"
  },
  {
   "cell_type": "code",
   "execution_count": null,
   "outputs": [],
   "source": [
    "def PrintMissing(your_dataframe): \n",
    "    \"\"\"\n",
    "    打印缺失数据统计信息\n",
    "    :param 表示数据集\n",
    "    :return: 返回一个新的dataframe，包含三列：'缺失数据'、'缺失率'、'数据类型'\n",
    "    \"\"\"\n",
    "    drop_sum = your_dataframe.isnull().sum() # 统计每列缺失值个数\n",
    "    drop_sum_not_zero = drop_sum[drop_sum > 0] # 只保留有缺失值的列\n",
    "    df1 = pd.DataFrame({'缺失数据': drop_sum_not_zero}) # 创建一个新的dataframe，列名为'缺失数据'\n",
    "    df2 = pd.DataFrame({'缺失率': drop_sum_not_zero/your_dataframe.shape[0]}) # 创建一个新的dataframe，列名为'缺失率'\n",
    "    keys = drop_sum_not_zero.to_dict() # 将drop_sum_not_zero转换为字典\n",
    "    df_dtypes = pd.DataFrame({'数据类型': {key: your_dataframe[key].dtype for key in keys}}) # 创建一个新的dataframe，列名为'数据类型'\n",
    "    new_df = pd.concat([df1, df2.round(4), df_dtypes], axis=1)\n",
    "    return new_df\n",
    "\n",
    "print()\n",
    "print('缺失数据统计如下（总数 %d）：' % full.shape[0])\n",
    "PrintMissing(full)"
   ],
   "metadata": {
    "collapsed": false
   },
   "id": "6c708c682fdd1777"
  },
  {
   "cell_type": "markdown",
   "source": [
    "# 数据清洗\n",
    "很多机器学习算法为了训练模型，要求所传入的特征中不能有空值。\n",
    "\n",
    "- 如果是数值类型，用平均值取代\n",
    "- 如果是分类数据，用最常见的类别取代\n",
    "- 使用模型预测缺失值，例如：K-NN"
   ],
   "metadata": {
    "collapsed": false
   },
   "id": "4b355a6405c7282f"
  },
  {
   "cell_type": "code",
   "execution_count": null,
   "outputs": [],
   "source": [],
   "metadata": {
    "collapsed": false
   },
   "id": "12a186d89c533522"
  }
 ],
 "metadata": {
  "kernelspec": {
   "display_name": "Python 3",
   "language": "python",
   "name": "python3"
  },
  "language_info": {
   "codemirror_mode": {
    "name": "ipython",
    "version": 2
   },
   "file_extension": ".py",
   "mimetype": "text/x-python",
   "name": "python",
   "nbconvert_exporter": "python",
   "pygments_lexer": "ipython2",
   "version": "2.7.6"
  }
 },
 "nbformat": 4,
 "nbformat_minor": 5
}
